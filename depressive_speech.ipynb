{
 "cells": [
  {
   "cell_type": "code",
   "execution_count": 53,
   "id": "6d4251e0-07df-4304-b75a-1d0035c6afad",
   "metadata": {},
   "outputs": [],
   "source": [
    "from datasets import load_dataset, load_metric, list_metrics\n",
    "from transformers import AutoTokenizer, AutoModelForSequenceClassification, TrainingArguments, Trainer\n",
    "import numpy as np "
   ]
  },
  {
   "cell_type": "code",
   "execution_count": 54,
   "id": "bd7948d0-d9b5-4ac1-b7c9-86d8bbad0c44",
   "metadata": {},
   "outputs": [
    {
     "name": "stderr",
     "output_type": "stream",
     "text": [
      "Using custom data configuration depressive_speech-96701654af5ae1e8\n",
      "Reusing dataset csv (/Users/haydenprescott/.cache/huggingface/datasets/csv/depressive_speech-96701654af5ae1e8/0.0.0/51cce309a08df9c4d82ffd9363bbe090bf173197fc01a71b034e8594995a1a58)\n"
     ]
    },
    {
     "data": {
      "application/vnd.jupyter.widget-view+json": {
       "model_id": "ad28f5b9b6774aaeaedcd39f50b2521a",
       "version_major": 2,
       "version_minor": 0
      },
      "text/plain": [
       "  0%|          | 0/1 [00:00<?, ?it/s]"
      ]
     },
     "metadata": {},
     "output_type": "display_data"
    },
    {
     "data": {
      "text/plain": [
       "Dataset({\n",
       "    features: ['id', 'text', 'label', 'source_data'],\n",
       "    num_rows: 10843\n",
       "})"
      ]
     },
     "execution_count": 54,
     "metadata": {},
     "output_type": "execute_result"
    }
   ],
   "source": [
    "dataset = load_dataset(\"data/depressive_speech\")\n",
    "#dataset\n",
    "dataset['train']"
   ]
  },
  {
   "cell_type": "code",
   "execution_count": 55,
   "id": "9a177124-405d-4027-92c6-176fee3f2c05",
   "metadata": {},
   "outputs": [],
   "source": [
    "model_name = \"bert-base-cased\""
   ]
  },
  {
   "cell_type": "code",
   "execution_count": 56,
   "id": "94653e91-a798-465d-87b1-fccf7c085be8",
   "metadata": {},
   "outputs": [],
   "source": [
    "tokenizer = AutoTokenizer.from_pretrained(model_name)"
   ]
  },
  {
   "cell_type": "code",
   "execution_count": 57,
   "id": "90f19ae1-8ff5-42bd-b415-3ab83e0c6146",
   "metadata": {},
   "outputs": [],
   "source": [
    "def tokenize(samples):\n",
    "    return tokenizer(samples['text'], padding=\"max_length\", truncation=True)"
   ]
  },
  {
   "cell_type": "code",
   "execution_count": 58,
   "id": "311f7c4d-0ac3-4cd5-a34d-bfab091313a5",
   "metadata": {},
   "outputs": [
    {
     "data": {
      "application/vnd.jupyter.widget-view+json": {
       "model_id": "16253e5f304a424188707e72c9ff77f1",
       "version_major": 2,
       "version_minor": 0
      },
      "text/plain": [
       "  0%|          | 0/11 [00:00<?, ?ba/s]"
      ]
     },
     "metadata": {},
     "output_type": "display_data"
    },
    {
     "data": {
      "text/plain": [
       "2"
      ]
     },
     "execution_count": 58,
     "metadata": {},
     "output_type": "execute_result"
    }
   ],
   "source": [
    "dataset_tokens = dataset.map(tokenize, batched=True)\n",
    "label_count = np.unique(np.array(dataset_tokens['train']['label'])).size\n",
    "label_count"
   ]
  },
  {
   "cell_type": "code",
   "execution_count": 59,
   "id": "0780ec4f-0843-4cdc-9e1a-e8509823e87c",
   "metadata": {},
   "outputs": [
    {
     "name": "stdout",
     "output_type": "stream",
     "text": [
      "Eval: Dataset({\n",
      "    features: ['id', 'text', 'label', 'source_data', 'input_ids', 'token_type_ids', 'attention_mask'],\n",
      "    num_rows: 1085\n",
      "}) \n",
      "Train: Dataset({\n",
      "    features: ['id', 'text', 'label', 'source_data', 'input_ids', 'token_type_ids', 'attention_mask'],\n",
      "    num_rows: 9758\n",
      "})\n"
     ]
    }
   ],
   "source": [
    "shuffle = dataset_tokens['train'].shuffle(seed=42)\n",
    "\n",
    "train_count = int(shuffle.num_rows * 0.9) \n",
    "\n",
    "dataset_train = shuffle.select(range(0, train_count))\n",
    "dataset_eval = shuffle.select(range(train_count, shuffle.num_rows))\n",
    "print(\"Eval:\", dataset_eval, \"\\nTrain:\", dataset_train)"
   ]
  },
  {
   "cell_type": "code",
   "execution_count": 60,
   "id": "43264197-c63e-4e29-9b1a-16a9c5ab227e",
   "metadata": {},
   "outputs": [
    {
     "name": "stderr",
     "output_type": "stream",
     "text": [
      "Some weights of the model checkpoint at bert-base-cased were not used when initializing BertForSequenceClassification: ['cls.predictions.bias', 'cls.predictions.transform.LayerNorm.weight', 'cls.predictions.transform.dense.bias', 'cls.predictions.transform.dense.weight', 'cls.predictions.decoder.weight', 'cls.predictions.transform.LayerNorm.bias', 'cls.seq_relationship.bias', 'cls.seq_relationship.weight']\n",
      "- This IS expected if you are initializing BertForSequenceClassification from the checkpoint of a model trained on another task or with another architecture (e.g. initializing a BertForSequenceClassification model from a BertForPreTraining model).\n",
      "- This IS NOT expected if you are initializing BertForSequenceClassification from the checkpoint of a model that you expect to be exactly identical (initializing a BertForSequenceClassification model from a BertForSequenceClassification model).\n",
      "Some weights of BertForSequenceClassification were not initialized from the model checkpoint at bert-base-cased and are newly initialized: ['classifier.bias', 'classifier.weight']\n",
      "You should probably TRAIN this model on a down-stream task to be able to use it for predictions and inference.\n"
     ]
    }
   ],
   "source": [
    "base_model = AutoModelForSequenceClassification.from_pretrained(model_name, num_labels=label_count)"
   ]
  },
  {
   "cell_type": "code",
   "execution_count": 61,
   "id": "54e1952c-8a64-41bd-9373-ee8c2e49b210",
   "metadata": {},
   "outputs": [],
   "source": [
    "training_args = TrainingArguments(output_dir=\"test_trainer\", evaluation_strategy=\"epoch\")"
   ]
  },
  {
   "cell_type": "code",
   "execution_count": 62,
   "id": "3a0f7b40-284c-4dd0-a36a-53b4e6df3338",
   "metadata": {},
   "outputs": [],
   "source": [
    "acc_metric = load_metric(\"accuracy\")"
   ]
  },
  {
   "cell_type": "code",
   "execution_count": 63,
   "id": "da3110df-17b6-473c-b3ba-6610f4bdbf69",
   "metadata": {},
   "outputs": [],
   "source": [
    "def compute_metrics(eval_pred):\n",
    "    logits, labels = eval_pred\n",
    "    predictions = np.argmax(logits, axis=-1)\n",
    "    return acc_metric.compute(predictions=predictions, references=labels)"
   ]
  },
  {
   "cell_type": "code",
   "execution_count": 64,
   "id": "81f0fad9-a196-46c2-b1ca-96a8fcbcb085",
   "metadata": {},
   "outputs": [],
   "source": [
    "trainer = Trainer(\n",
    "    model=base_model,\n",
    "    args=training_args,\n",
    "    train_dataset=dataset_train,\n",
    "    eval_dataset=dataset_eval,\n",
    "    compute_metrics=compute_metrics,\n",
    ")"
   ]
  },
  {
   "cell_type": "code",
   "execution_count": null,
   "id": "d44fb22c-8453-407d-92e6-c73ba08568c8",
   "metadata": {},
   "outputs": [
    {
     "name": "stderr",
     "output_type": "stream",
     "text": [
      "The following columns in the training set don't have a corresponding argument in `BertForSequenceClassification.forward` and have been ignored: source_data, text, id. If source_data, text, id are not expected by `BertForSequenceClassification.forward`,  you can safely ignore this message.\n",
      "/Users/haydenprescott/opt/anaconda3/envs/hf-transformers/lib/python3.9/site-packages/transformers/optimization.py:306: FutureWarning: This implementation of AdamW is deprecated and will be removed in a future version. Use the PyTorch implementation torch.optim.AdamW instead, or set `no_deprecation_warning=True` to disable this warning\n",
      "  warnings.warn(\n",
      "***** Running training *****\n",
      "  Num examples = 9758\n",
      "  Num Epochs = 3\n",
      "  Instantaneous batch size per device = 8\n",
      "  Total train batch size (w. parallel, distributed & accumulation) = 8\n",
      "  Gradient Accumulation steps = 1\n",
      "  Total optimization steps = 3660\n"
     ]
    }
   ],
   "source": [
    "trainer.train()"
   ]
  },
  {
   "cell_type": "code",
   "execution_count": null,
   "id": "bde48b07-1cde-454c-9b33-7c07b807cd69",
   "metadata": {},
   "outputs": [],
   "source": []
  }
 ],
 "metadata": {
  "kernelspec": {
   "display_name": "hf-transformers",
   "language": "python",
   "name": "hf-transformers"
  },
  "language_info": {
   "codemirror_mode": {
    "name": "ipython",
    "version": 3
   },
   "file_extension": ".py",
   "mimetype": "text/x-python",
   "name": "python",
   "nbconvert_exporter": "python",
   "pygments_lexer": "ipython3",
   "version": "3.9.13"
  }
 },
 "nbformat": 4,
 "nbformat_minor": 5
}
