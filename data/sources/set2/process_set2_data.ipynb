{
 "cells": [
  {
   "cell_type": "code",
   "execution_count": 15,
   "id": "2c4e9869-0f75-4825-a459-15fb037cdaee",
   "metadata": {},
   "outputs": [],
   "source": [
    "import pandas as pd\n",
    "from vaderSentiment.vaderSentiment import SentimentIntensityAnalyzer\n",
    "import os"
   ]
  },
  {
   "cell_type": "code",
   "execution_count": 16,
   "id": "1cca1471-d086-4916-acfa-6f4b43034ae0",
   "metadata": {},
   "outputs": [
    {
     "data": {
      "text/plain": [
       "'/Users/haydenprescott/projects/red-flag-text-detection/data/sources/set2'"
      ]
     },
     "execution_count": 16,
     "metadata": {},
     "output_type": "execute_result"
    }
   ],
   "source": [
    "os.getcwd()"
   ]
  },
  {
   "cell_type": "code",
   "execution_count": 25,
   "id": "cecd8b05-645e-4b6e-b478-848d5611d57e",
   "metadata": {},
   "outputs": [
    {
     "data": {
      "text/html": [
       "<div>\n",
       "<style scoped>\n",
       "    .dataframe tbody tr th:only-of-type {\n",
       "        vertical-align: middle;\n",
       "    }\n",
       "\n",
       "    .dataframe tbody tr th {\n",
       "        vertical-align: top;\n",
       "    }\n",
       "\n",
       "    .dataframe thead th {\n",
       "        text-align: right;\n",
       "    }\n",
       "</style>\n",
       "<table border=\"1\" class=\"dataframe\">\n",
       "  <thead>\n",
       "    <tr style=\"text-align: right;\">\n",
       "      <th></th>\n",
       "      <th>text</th>\n",
       "      <th>subreddit</th>\n",
       "      <th>label</th>\n",
       "      <th>pos</th>\n",
       "      <th>neg</th>\n",
       "    </tr>\n",
       "  </thead>\n",
       "  <tbody>\n",
       "    <tr>\n",
       "      <th>0</th>\n",
       "      <td>Need to Change Depression meds....but SCARED.....</td>\n",
       "      <td>sw</td>\n",
       "      <td></td>\n",
       "      <td></td>\n",
       "      <td></td>\n",
       "    </tr>\n",
       "    <tr>\n",
       "      <th>1</th>\n",
       "      <td>Fear of surviving stopping me from kms If ther...</td>\n",
       "      <td>sw</td>\n",
       "      <td></td>\n",
       "      <td></td>\n",
       "      <td></td>\n",
       "    </tr>\n",
       "    <tr>\n",
       "      <th>2</th>\n",
       "      <td>Going through major transformations I’m 25, fr...</td>\n",
       "      <td>cc</td>\n",
       "      <td></td>\n",
       "      <td></td>\n",
       "      <td></td>\n",
       "    </tr>\n",
       "    <tr>\n",
       "      <th>3</th>\n",
       "      <td>I’ve started having suicidal thoughts again I’...</td>\n",
       "      <td>sw</td>\n",
       "      <td></td>\n",
       "      <td></td>\n",
       "      <td></td>\n",
       "    </tr>\n",
       "    <tr>\n",
       "      <th>4</th>\n",
       "      <td>Who would you choose?! So imagine one day you ...</td>\n",
       "      <td>cc</td>\n",
       "      <td></td>\n",
       "      <td></td>\n",
       "      <td></td>\n",
       "    </tr>\n",
       "  </tbody>\n",
       "</table>\n",
       "</div>"
      ],
      "text/plain": [
       "                                                text subreddit label pos neg\n",
       "0  Need to Change Depression meds....but SCARED.....        sw              \n",
       "1  Fear of surviving stopping me from kms If ther...        sw              \n",
       "2  Going through major transformations I’m 25, fr...        cc              \n",
       "3  I’ve started having suicidal thoughts again I’...        sw              \n",
       "4  Who would you choose?! So imagine one day you ...        cc              "
      ]
     },
     "execution_count": 25,
     "metadata": {},
     "output_type": "execute_result"
    }
   ],
   "source": [
    "df = pd.read_csv(\"./DepressionDetectionNLP/final_training_data.txt\", delimiter=\"\\t\")\n",
    "# Rename column 'combined' to 'text' for better clarity\n",
    "df.rename(columns={'combined':'text'}, inplace=True)\n",
    "\n",
    "# Add columns for positive/negative sentiment and the label\n",
    "df[\"label\"] = \"\"\n",
    "df[\"pos\"] = \"\"\n",
    "df[\"neg\"] = \"\"\n",
    "\n",
    "df.head()"
   ]
  },
  {
   "cell_type": "code",
   "execution_count": 27,
   "id": "35f17664-be16-48b5-8301-694d7d27c535",
   "metadata": {},
   "outputs": [
    {
     "data": {
      "text/html": [
       "<div>\n",
       "<style scoped>\n",
       "    .dataframe tbody tr th:only-of-type {\n",
       "        vertical-align: middle;\n",
       "    }\n",
       "\n",
       "    .dataframe tbody tr th {\n",
       "        vertical-align: top;\n",
       "    }\n",
       "\n",
       "    .dataframe thead th {\n",
       "        text-align: right;\n",
       "    }\n",
       "</style>\n",
       "<table border=\"1\" class=\"dataframe\">\n",
       "  <thead>\n",
       "    <tr style=\"text-align: right;\">\n",
       "      <th></th>\n",
       "      <th>text</th>\n",
       "      <th>subreddit</th>\n",
       "      <th>label</th>\n",
       "      <th>pos</th>\n",
       "      <th>neg</th>\n",
       "    </tr>\n",
       "  </thead>\n",
       "  <tbody>\n",
       "    <tr>\n",
       "      <th>0</th>\n",
       "      <td>Need to Change Depression meds....but SCARED.....</td>\n",
       "      <td>sw</td>\n",
       "      <td>0</td>\n",
       "      <td>0.02</td>\n",
       "      <td>0.249</td>\n",
       "    </tr>\n",
       "    <tr>\n",
       "      <th>6</th>\n",
       "      <td>Where should I read my college required readin...</td>\n",
       "      <td>cc</td>\n",
       "      <td>1</td>\n",
       "      <td>0.0</td>\n",
       "      <td>0.0</td>\n",
       "    </tr>\n",
       "    <tr>\n",
       "      <th>7</th>\n",
       "      <td>Your and You’re An easy way to remember it, fo...</td>\n",
       "      <td>cc</td>\n",
       "      <td>1</td>\n",
       "      <td>0.078</td>\n",
       "      <td>0.066</td>\n",
       "    </tr>\n",
       "    <tr>\n",
       "      <th>8</th>\n",
       "      <td>did i miss a day? oh poop. well, halfway to 5 ...</td>\n",
       "      <td>cc</td>\n",
       "      <td>1</td>\n",
       "      <td>0.353</td>\n",
       "      <td>0.028</td>\n",
       "    </tr>\n",
       "    <tr>\n",
       "      <th>9</th>\n",
       "      <td>My flight just got delayed for super long.. wh...</td>\n",
       "      <td>cc</td>\n",
       "      <td>1</td>\n",
       "      <td>0.065</td>\n",
       "      <td>0.032</td>\n",
       "    </tr>\n",
       "  </tbody>\n",
       "</table>\n",
       "</div>"
      ],
      "text/plain": [
       "                                                text subreddit label    pos  \\\n",
       "0  Need to Change Depression meds....but SCARED.....        sw     0   0.02   \n",
       "6  Where should I read my college required readin...        cc     1    0.0   \n",
       "7  Your and You’re An easy way to remember it, fo...        cc     1  0.078   \n",
       "8  did i miss a day? oh poop. well, halfway to 5 ...        cc     1  0.353   \n",
       "9  My flight just got delayed for super long.. wh...        cc     1  0.065   \n",
       "\n",
       "     neg  \n",
       "0  0.249  \n",
       "6    0.0  \n",
       "7  0.066  \n",
       "8  0.028  \n",
       "9  0.032  "
      ]
     },
     "execution_count": 27,
     "metadata": {},
     "output_type": "execute_result"
    }
   ],
   "source": [
    "#Perform Sentiment Analysis on Training Data and Populate Pandas DataFrame\n",
    "analyzer = SentimentIntensityAnalyzer()\n",
    "\n",
    "# Thresholds to discard outliers (positive posts in suicide watch subreddit & negative posts in casual conversation subreddit)\n",
    "NEG_DISCARD_THRESHOLD = 0.1\n",
    "POS_DISCARD_THRESHOLD = 0.1\n",
    "\n",
    "for index, row in df.iterrows():\n",
    "    subreddit = row.subreddit\n",
    "    \n",
    "    # Run sentiment anlysis for the post\n",
    "    scores = analyzer.polarity_scores(row.text)\n",
    "    \n",
    "    if scores['neg'] > NEG_DISCARD_THRESHOLD and subreddit == \"cc\":\n",
    "        df.drop(index, inplace=True)\n",
    "    elif scores['pos'] > POS_DISCARD_THRESHOLD and subreddit == \"sw\":\n",
    "        df.drop(index, inplace=True)\n",
    "    else:\n",
    "        if subreddit == \"cc\":\n",
    "            row.label = 1\n",
    "        elif subreddit == \"sw\":\n",
    "            row.label = 0\n",
    "        else:\n",
    "            row.label = np.nan\n",
    "        row.pos = scores['pos']\n",
    "        row.neg = scores['neg']\n",
    "df.head()"
   ]
  },
  {
   "cell_type": "code",
   "execution_count": 28,
   "id": "4ef78035-0b62-4da5-8ccb-1fe22d160124",
   "metadata": {},
   "outputs": [],
   "source": [
    "df.to_csv(\"./set2_processed.csv\")"
   ]
  },
  {
   "cell_type": "code",
   "execution_count": null,
   "id": "c3c7b2e3-2d81-488d-a7c9-91da92b5b7e1",
   "metadata": {},
   "outputs": [],
   "source": []
  }
 ],
 "metadata": {
  "kernelspec": {
   "display_name": "hf-transformers",
   "language": "python",
   "name": "hf-transformers"
  },
  "language_info": {
   "codemirror_mode": {
    "name": "ipython",
    "version": 3
   },
   "file_extension": ".py",
   "mimetype": "text/x-python",
   "name": "python",
   "nbconvert_exporter": "python",
   "pygments_lexer": "ipython3",
   "version": "3.9.13"
  }
 },
 "nbformat": 4,
 "nbformat_minor": 5
}
